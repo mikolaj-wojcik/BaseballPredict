{
  "nbformat": 4,
  "nbformat_minor": 0,
  "metadata": {
    "colab": {
      "provenance": [],
      "gpuType": "T4"
    },
    "kernelspec": {
      "name": "python3",
      "display_name": "Python 3"
    },
    "language_info": {
      "name": "python"
    }
  },
  "cells": [
    {
      "cell_type": "markdown",
      "source": [
        "type- to jest dobre do przewidywania"
      ],
      "metadata": {
        "id": "iETPhfibNUGL"
      }
    },
    {
      "cell_type": "code",
      "execution_count": 1,
      "metadata": {
        "id": "dzIkeEQypxYk"
      },
      "outputs": [],
      "source": [
        "import tensorflow as tf\n",
        "import requests\n",
        "import zipfile\n",
        "from pathlib import Path\n",
        "import pandas as pd\n",
        "import numpy as np\n",
        "import matplotlib.pyplot as plt\n",
        "import plotly.express as px\n",
        "from sklearn import preprocessing\n",
        "from sklearn.preprocessing import LabelBinarizer\n",
        "from sklearn.preprocessing import LabelEncoder\n",
        "import seaborn as sb\n",
        "# Note: this notebook requires torch >= 1.10.0\n",
        "import keras\n",
        "#device = \"cuda\" if torch.cuda.is_available() else \"cpu\"\n",
        "#device"
      ]
    },
    {
      "cell_type": "markdown",
      "source": [
        "###Creating train and test dataset\n"
      ],
      "metadata": {
        "id": "2bVJ22MJswJm"
      }
    },
    {
      "cell_type": "code",
      "source": [
        "def loadFromFile():\n",
        "  datasetFolder = ('/content/drive/MyDrive/MLB Data')\n",
        "  atBat = pd.read_csv(datasetFolder + '/atbats.csv')\n",
        "  atBat['split'] = np.random.randn(atBat.shape[0], 1)\n",
        "  players = pd.read_csv(datasetFolder + '/player_names.csv')\n",
        "  pitches = pd.read_csv(datasetFolder + '/pitches.csv')\n",
        "  pitches['split'] = np.random.randn(pitches.shape[0], 1)\n",
        "\n",
        "  pitchAndAtBat = pd.merge(pitches, atBat, on='ab_id', how= 'left')\n",
        "\n",
        "  allStatsPitchers= pd.merge(pitchAndAtBat, players, left_on='pitcher_id', right_on='id', how= 'left')\n",
        "  pitches.columns\n",
        "  allStatsPitchers.rename(columns = {'first_name':'pitch_first_name', 'last_name':'pitch_last_name'}, inplace = True)\n",
        "  allStatsPitchers.drop(columns=['id'])\n",
        "\n",
        "  allStats= pd.merge(allStatsPitchers, players, left_on='batter_id', right_on='id', how= 'left')\n",
        "  allStats.rename(columns = {'first_name':'bat_first_name', 'last_name':'bat_last_name'}, inplace = True)\n",
        "#allStats.drop(columns=['id'])\n",
        "#allStats.dtypes\n",
        "\n",
        "\n",
        "  allStats.columns\n",
        "  allStats=allStats.dropna().reset_index(drop=True)\n",
        "  return allStats\n"
      ],
      "metadata": {
        "id": "FBjvRqX_ryJW"
      },
      "execution_count": 2,
      "outputs": []
    },
    {
      "cell_type": "code",
      "source": [
        "allStats = loadFromFile()\n",
        "\n",
        "allStats.drop(['px','pz','bat_first_name','bat_last_name','ab_id','type_confidence','sz_top','sz_bot', 'nasty'], axis=1, inplace=True)\n",
        "allStats.drop(['pitch_first_name','pitch_last_name','g_id','event_num','o'], axis=1, inplace=True)\n",
        "allStats.drop([\"batter_id\", 'pitcher_id', 'break_angle',\t'break_length'], axis=1, inplace=True)\n",
        "allStats.drop([\"split_x\", 'split_y'], axis=1, inplace=True)\n",
        "allStats.drop(['id_x', 'id_y','zone'], axis=1, inplace=True)\n",
        "\n",
        "allStats.columns\n"
      ],
      "metadata": {
        "colab": {
          "base_uri": "https://localhost:8080/"
        },
        "id": "5H8WO5duHbbT",
        "outputId": "768a94e3-3c26-419d-fde3-c3a7ffe95587"
      },
      "execution_count": 3,
      "outputs": [
        {
          "output_type": "execute_result",
          "data": {
            "text/plain": [
              "Index(['start_speed', 'end_speed', 'spin_rate', 'spin_dir', 'break_y', 'ax',\n",
              "       'ay', 'az', 'vx0', 'vy0', 'vz0', 'x', 'x0', 'y', 'y0', 'z0', 'pfx_x',\n",
              "       'pfx_z', 'code', 'type', 'pitch_type', 'b_score', 'b_count', 's_count',\n",
              "       'outs', 'pitch_num', 'on_1b', 'on_2b', 'on_3b', 'event', 'inning',\n",
              "       'p_score', 'p_throws', 'stand', 'top'],\n",
              "      dtype='object')"
            ]
          },
          "metadata": {},
          "execution_count": 3
        }
      ]
    },
    {
      "cell_type": "code",
      "source": [
        "allStats.dtypes\n",
        "allStats['code']  = allStats['code'].astype(str)\n",
        "allStats['stand'] = allStats['stand'].astype(str)\n",
        "allStats['top'] = allStats['top'].astype(str)\n",
        "allStats['type'] = allStats['type'].astype(str)\n",
        "allStats['pitch_type']  = allStats['pitch_type'].astype(str)\n",
        "allStats['p_throws']  = allStats['p_throws'].astype(str)\n",
        "allStats['p_throws']"
      ],
      "metadata": {
        "colab": {
          "base_uri": "https://localhost:8080/"
        },
        "id": "VWlIoGVV2lQH",
        "outputId": "b2ac4774-7cdd-4df8-f274-16d1fb4367c7"
      },
      "execution_count": 4,
      "outputs": [
        {
          "output_type": "execute_result",
          "data": {
            "text/plain": [
              "0          L\n",
              "1          L\n",
              "2          L\n",
              "3          L\n",
              "4          L\n",
              "          ..\n",
              "2847245    L\n",
              "2847246    L\n",
              "2847247    L\n",
              "2847248    L\n",
              "2847249    L\n",
              "Name: p_throws, Length: 2847250, dtype: object"
            ]
          },
          "metadata": {},
          "execution_count": 4
        }
      ]
    },
    {
      "cell_type": "code",
      "source": [
        "#allStats['stand'] = allStats['stand'].astype(str)\n",
        "#allStats['top'] = allStats['top'].astype(str)\n",
        "#allStats['type'] = allStats['type'].astype(str)\n",
        "#allStats['p_throws']  = allStats['p_throws'].astype(str)"
      ],
      "metadata": {
        "id": "RNOg-7uvbtSl"
      },
      "execution_count": 6,
      "outputs": []
    },
    {
      "cell_type": "markdown",
      "source": [
        "###Label encoding\n"
      ],
      "metadata": {
        "id": "ZAAz3UrYrClD"
      }
    },
    {
      "cell_type": "code",
      "source": [
        "cLB = LabelBinarizer()\n",
        "cLB.fit(allStats['code'])\n",
        "cLB.classes_\n",
        "er=cLB.transform(allStats['code'])\n",
        "allStats['codeOut'] = er.tolist()\n",
        "\n",
        "tLB = LabelEncoder()\n",
        "\n",
        "\n",
        "ty = pd.DataFrame(tLB.fit_transform(allStats['type']))#, #columns=tLB.classes_)\n",
        "\n",
        "pLB = LabelBinarizer()\n",
        "\n",
        "\n",
        "r1 = pd.DataFrame(pLB.fit_transform(allStats['pitch_type']), columns=pLB.classes_)\n",
        "\n",
        "allStats=pd.merge(allStats, r1, left_index=True, right_index = True)\n",
        "\n",
        "sLE = preprocessing.LabelEncoder()\n",
        "sLE.fit(allStats['stand'])\n",
        "allStats['stand'] = sLE.transform(allStats['stand'])\n",
        "\n",
        "tLE = preprocessing.LabelEncoder()\n",
        "tLE.fit(allStats['top'])\n",
        "allStats['top'] = tLE.transform(allStats['top'])\n",
        "\n",
        "\n",
        "eLE = preprocessing.LabelEncoder()\n",
        "eLE.fit(allStats['p_throws'])\n",
        "allStats['p_throws'] = eLE.transform(allStats['p_throws'])\n",
        "\n",
        "\n",
        "allStats\n",
        "\n"
      ],
      "metadata": {
        "id": "YbVh7FVjrFuP",
        "colab": {
          "base_uri": "https://localhost:8080/",
          "height": 487
        },
        "outputId": "8bcfb7cc-c8d9-4f4c-d4d6-7406592f5653"
      },
      "execution_count": 5,
      "outputs": [
        {
          "output_type": "execute_result",
          "data": {
            "text/plain": [
              "         start_speed  end_speed  spin_rate  spin_dir  break_y         ax  \\\n",
              "0               92.9       84.1   2305.052   159.235     23.7   7.665000   \n",
              "1               92.8       84.1   2689.935   151.402     23.7  12.043000   \n",
              "2               94.1       85.2   2647.972   145.125     23.7  14.368000   \n",
              "3               91.0       84.0   1289.590   169.751     23.8   2.104000   \n",
              "4               75.4       69.6   1374.569   280.671     23.8 -10.280000   \n",
              "...              ...        ...        ...       ...      ...        ...   \n",
              "2847245         83.9       78.2    608.594   275.800     23.9  -5.097492   \n",
              "2847246         97.7       89.5   2262.907   155.009     23.8   9.344343   \n",
              "2847247         97.3       89.6   2514.010   147.166     23.8  13.292081   \n",
              "2847248         95.9       88.6   2318.775   144.921     23.8  12.786338   \n",
              "2847249         95.8       87.7   2354.885   144.198     23.8  13.235496   \n",
              "\n",
              "                ay         az        vx0         vy0  ...  FS  FT  IN  KC  KN  \\\n",
              "0        34.685000 -11.960000  -6.409000 -136.065000  ...   0   0   0   0   0   \n",
              "1        34.225000 -10.085000  -8.411000 -135.690000  ...   0   0   0   0   0   \n",
              "2        35.276000 -11.560000  -9.802000 -137.668000  ...   0   0   0   0   0   \n",
              "3        28.354000 -20.540000  -8.071000 -133.005000  ...   0   0   0   0   0   \n",
              "4        21.774000 -34.111000  -6.309000 -110.409000  ...   0   0   0   0   0   \n",
              "...            ...        ...        ...         ...  ...  ..  ..  ..  ..  ..   \n",
              "2847245  20.344010 -32.691751  -6.895539 -122.140540  ...   0   0   0   0   0   \n",
              "2847246  29.592944 -12.127944 -12.912992 -141.795182  ...   0   0   0   0   0   \n",
              "2847247  30.048939 -11.576431 -12.095230 -141.465465  ...   0   0   0   0   0   \n",
              "2847248  28.690698 -13.967178 -11.422113 -139.199258  ...   0   0   0   0   0   \n",
              "2847249  31.205638 -13.824774 -10.118921 -139.384145  ...   0   0   0   0   0   \n",
              "\n",
              "         PO  SC  SI SL UN  \n",
              "0         0   0   0  0  0  \n",
              "1         0   0   0  0  0  \n",
              "2         0   0   0  0  0  \n",
              "3         0   0   0  0  0  \n",
              "4         0   0   0  0  0  \n",
              "...      ..  ..  .. .. ..  \n",
              "2847245   0   0   0  1  0  \n",
              "2847246   0   0   0  0  0  \n",
              "2847247   0   0   0  0  0  \n",
              "2847248   0   0   0  0  0  \n",
              "2847249   0   0   0  0  0  \n",
              "\n",
              "[2847250 rows x 54 columns]"
            ],
            "text/html": [
              "\n",
              "\n",
              "  <div id=\"df-a7a97178-5a8c-4d5c-ae21-e61f438b96b3\">\n",
              "    <div class=\"colab-df-container\">\n",
              "      <div>\n",
              "<style scoped>\n",
              "    .dataframe tbody tr th:only-of-type {\n",
              "        vertical-align: middle;\n",
              "    }\n",
              "\n",
              "    .dataframe tbody tr th {\n",
              "        vertical-align: top;\n",
              "    }\n",
              "\n",
              "    .dataframe thead th {\n",
              "        text-align: right;\n",
              "    }\n",
              "</style>\n",
              "<table border=\"1\" class=\"dataframe\">\n",
              "  <thead>\n",
              "    <tr style=\"text-align: right;\">\n",
              "      <th></th>\n",
              "      <th>start_speed</th>\n",
              "      <th>end_speed</th>\n",
              "      <th>spin_rate</th>\n",
              "      <th>spin_dir</th>\n",
              "      <th>break_y</th>\n",
              "      <th>ax</th>\n",
              "      <th>ay</th>\n",
              "      <th>az</th>\n",
              "      <th>vx0</th>\n",
              "      <th>vy0</th>\n",
              "      <th>...</th>\n",
              "      <th>FS</th>\n",
              "      <th>FT</th>\n",
              "      <th>IN</th>\n",
              "      <th>KC</th>\n",
              "      <th>KN</th>\n",
              "      <th>PO</th>\n",
              "      <th>SC</th>\n",
              "      <th>SI</th>\n",
              "      <th>SL</th>\n",
              "      <th>UN</th>\n",
              "    </tr>\n",
              "  </thead>\n",
              "  <tbody>\n",
              "    <tr>\n",
              "      <th>0</th>\n",
              "      <td>92.9</td>\n",
              "      <td>84.1</td>\n",
              "      <td>2305.052</td>\n",
              "      <td>159.235</td>\n",
              "      <td>23.7</td>\n",
              "      <td>7.665000</td>\n",
              "      <td>34.685000</td>\n",
              "      <td>-11.960000</td>\n",
              "      <td>-6.409000</td>\n",
              "      <td>-136.065000</td>\n",
              "      <td>...</td>\n",
              "      <td>0</td>\n",
              "      <td>0</td>\n",
              "      <td>0</td>\n",
              "      <td>0</td>\n",
              "      <td>0</td>\n",
              "      <td>0</td>\n",
              "      <td>0</td>\n",
              "      <td>0</td>\n",
              "      <td>0</td>\n",
              "      <td>0</td>\n",
              "    </tr>\n",
              "    <tr>\n",
              "      <th>1</th>\n",
              "      <td>92.8</td>\n",
              "      <td>84.1</td>\n",
              "      <td>2689.935</td>\n",
              "      <td>151.402</td>\n",
              "      <td>23.7</td>\n",
              "      <td>12.043000</td>\n",
              "      <td>34.225000</td>\n",
              "      <td>-10.085000</td>\n",
              "      <td>-8.411000</td>\n",
              "      <td>-135.690000</td>\n",
              "      <td>...</td>\n",
              "      <td>0</td>\n",
              "      <td>0</td>\n",
              "      <td>0</td>\n",
              "      <td>0</td>\n",
              "      <td>0</td>\n",
              "      <td>0</td>\n",
              "      <td>0</td>\n",
              "      <td>0</td>\n",
              "      <td>0</td>\n",
              "      <td>0</td>\n",
              "    </tr>\n",
              "    <tr>\n",
              "      <th>2</th>\n",
              "      <td>94.1</td>\n",
              "      <td>85.2</td>\n",
              "      <td>2647.972</td>\n",
              "      <td>145.125</td>\n",
              "      <td>23.7</td>\n",
              "      <td>14.368000</td>\n",
              "      <td>35.276000</td>\n",
              "      <td>-11.560000</td>\n",
              "      <td>-9.802000</td>\n",
              "      <td>-137.668000</td>\n",
              "      <td>...</td>\n",
              "      <td>0</td>\n",
              "      <td>0</td>\n",
              "      <td>0</td>\n",
              "      <td>0</td>\n",
              "      <td>0</td>\n",
              "      <td>0</td>\n",
              "      <td>0</td>\n",
              "      <td>0</td>\n",
              "      <td>0</td>\n",
              "      <td>0</td>\n",
              "    </tr>\n",
              "    <tr>\n",
              "      <th>3</th>\n",
              "      <td>91.0</td>\n",
              "      <td>84.0</td>\n",
              "      <td>1289.590</td>\n",
              "      <td>169.751</td>\n",
              "      <td>23.8</td>\n",
              "      <td>2.104000</td>\n",
              "      <td>28.354000</td>\n",
              "      <td>-20.540000</td>\n",
              "      <td>-8.071000</td>\n",
              "      <td>-133.005000</td>\n",
              "      <td>...</td>\n",
              "      <td>0</td>\n",
              "      <td>0</td>\n",
              "      <td>0</td>\n",
              "      <td>0</td>\n",
              "      <td>0</td>\n",
              "      <td>0</td>\n",
              "      <td>0</td>\n",
              "      <td>0</td>\n",
              "      <td>0</td>\n",
              "      <td>0</td>\n",
              "    </tr>\n",
              "    <tr>\n",
              "      <th>4</th>\n",
              "      <td>75.4</td>\n",
              "      <td>69.6</td>\n",
              "      <td>1374.569</td>\n",
              "      <td>280.671</td>\n",
              "      <td>23.8</td>\n",
              "      <td>-10.280000</td>\n",
              "      <td>21.774000</td>\n",
              "      <td>-34.111000</td>\n",
              "      <td>-6.309000</td>\n",
              "      <td>-110.409000</td>\n",
              "      <td>...</td>\n",
              "      <td>0</td>\n",
              "      <td>0</td>\n",
              "      <td>0</td>\n",
              "      <td>0</td>\n",
              "      <td>0</td>\n",
              "      <td>0</td>\n",
              "      <td>0</td>\n",
              "      <td>0</td>\n",
              "      <td>0</td>\n",
              "      <td>0</td>\n",
              "    </tr>\n",
              "    <tr>\n",
              "      <th>...</th>\n",
              "      <td>...</td>\n",
              "      <td>...</td>\n",
              "      <td>...</td>\n",
              "      <td>...</td>\n",
              "      <td>...</td>\n",
              "      <td>...</td>\n",
              "      <td>...</td>\n",
              "      <td>...</td>\n",
              "      <td>...</td>\n",
              "      <td>...</td>\n",
              "      <td>...</td>\n",
              "      <td>...</td>\n",
              "      <td>...</td>\n",
              "      <td>...</td>\n",
              "      <td>...</td>\n",
              "      <td>...</td>\n",
              "      <td>...</td>\n",
              "      <td>...</td>\n",
              "      <td>...</td>\n",
              "      <td>...</td>\n",
              "      <td>...</td>\n",
              "    </tr>\n",
              "    <tr>\n",
              "      <th>2847245</th>\n",
              "      <td>83.9</td>\n",
              "      <td>78.2</td>\n",
              "      <td>608.594</td>\n",
              "      <td>275.800</td>\n",
              "      <td>23.9</td>\n",
              "      <td>-5.097492</td>\n",
              "      <td>20.344010</td>\n",
              "      <td>-32.691751</td>\n",
              "      <td>-6.895539</td>\n",
              "      <td>-122.140540</td>\n",
              "      <td>...</td>\n",
              "      <td>0</td>\n",
              "      <td>0</td>\n",
              "      <td>0</td>\n",
              "      <td>0</td>\n",
              "      <td>0</td>\n",
              "      <td>0</td>\n",
              "      <td>0</td>\n",
              "      <td>0</td>\n",
              "      <td>1</td>\n",
              "      <td>0</td>\n",
              "    </tr>\n",
              "    <tr>\n",
              "      <th>2847246</th>\n",
              "      <td>97.7</td>\n",
              "      <td>89.5</td>\n",
              "      <td>2262.907</td>\n",
              "      <td>155.009</td>\n",
              "      <td>23.8</td>\n",
              "      <td>9.344343</td>\n",
              "      <td>29.592944</td>\n",
              "      <td>-12.127944</td>\n",
              "      <td>-12.912992</td>\n",
              "      <td>-141.795182</td>\n",
              "      <td>...</td>\n",
              "      <td>0</td>\n",
              "      <td>0</td>\n",
              "      <td>0</td>\n",
              "      <td>0</td>\n",
              "      <td>0</td>\n",
              "      <td>0</td>\n",
              "      <td>0</td>\n",
              "      <td>0</td>\n",
              "      <td>0</td>\n",
              "      <td>0</td>\n",
              "    </tr>\n",
              "    <tr>\n",
              "      <th>2847247</th>\n",
              "      <td>97.3</td>\n",
              "      <td>89.6</td>\n",
              "      <td>2514.010</td>\n",
              "      <td>147.166</td>\n",
              "      <td>23.8</td>\n",
              "      <td>13.292081</td>\n",
              "      <td>30.048939</td>\n",
              "      <td>-11.576431</td>\n",
              "      <td>-12.095230</td>\n",
              "      <td>-141.465465</td>\n",
              "      <td>...</td>\n",
              "      <td>0</td>\n",
              "      <td>0</td>\n",
              "      <td>0</td>\n",
              "      <td>0</td>\n",
              "      <td>0</td>\n",
              "      <td>0</td>\n",
              "      <td>0</td>\n",
              "      <td>0</td>\n",
              "      <td>0</td>\n",
              "      <td>0</td>\n",
              "    </tr>\n",
              "    <tr>\n",
              "      <th>2847248</th>\n",
              "      <td>95.9</td>\n",
              "      <td>88.6</td>\n",
              "      <td>2318.775</td>\n",
              "      <td>144.921</td>\n",
              "      <td>23.8</td>\n",
              "      <td>12.786338</td>\n",
              "      <td>28.690698</td>\n",
              "      <td>-13.967178</td>\n",
              "      <td>-11.422113</td>\n",
              "      <td>-139.199258</td>\n",
              "      <td>...</td>\n",
              "      <td>0</td>\n",
              "      <td>0</td>\n",
              "      <td>0</td>\n",
              "      <td>0</td>\n",
              "      <td>0</td>\n",
              "      <td>0</td>\n",
              "      <td>0</td>\n",
              "      <td>0</td>\n",
              "      <td>0</td>\n",
              "      <td>0</td>\n",
              "    </tr>\n",
              "    <tr>\n",
              "      <th>2847249</th>\n",
              "      <td>95.8</td>\n",
              "      <td>87.7</td>\n",
              "      <td>2354.885</td>\n",
              "      <td>144.198</td>\n",
              "      <td>23.8</td>\n",
              "      <td>13.235496</td>\n",
              "      <td>31.205638</td>\n",
              "      <td>-13.824774</td>\n",
              "      <td>-10.118921</td>\n",
              "      <td>-139.384145</td>\n",
              "      <td>...</td>\n",
              "      <td>0</td>\n",
              "      <td>0</td>\n",
              "      <td>0</td>\n",
              "      <td>0</td>\n",
              "      <td>0</td>\n",
              "      <td>0</td>\n",
              "      <td>0</td>\n",
              "      <td>0</td>\n",
              "      <td>0</td>\n",
              "      <td>0</td>\n",
              "    </tr>\n",
              "  </tbody>\n",
              "</table>\n",
              "<p>2847250 rows × 54 columns</p>\n",
              "</div>\n",
              "      <button class=\"colab-df-convert\" onclick=\"convertToInteractive('df-a7a97178-5a8c-4d5c-ae21-e61f438b96b3')\"\n",
              "              title=\"Convert this dataframe to an interactive table.\"\n",
              "              style=\"display:none;\">\n",
              "\n",
              "  <svg xmlns=\"http://www.w3.org/2000/svg\" height=\"24px\"viewBox=\"0 0 24 24\"\n",
              "       width=\"24px\">\n",
              "    <path d=\"M0 0h24v24H0V0z\" fill=\"none\"/>\n",
              "    <path d=\"M18.56 5.44l.94 2.06.94-2.06 2.06-.94-2.06-.94-.94-2.06-.94 2.06-2.06.94zm-11 1L8.5 8.5l.94-2.06 2.06-.94-2.06-.94L8.5 2.5l-.94 2.06-2.06.94zm10 10l.94 2.06.94-2.06 2.06-.94-2.06-.94-.94-2.06-.94 2.06-2.06.94z\"/><path d=\"M17.41 7.96l-1.37-1.37c-.4-.4-.92-.59-1.43-.59-.52 0-1.04.2-1.43.59L10.3 9.45l-7.72 7.72c-.78.78-.78 2.05 0 2.83L4 21.41c.39.39.9.59 1.41.59.51 0 1.02-.2 1.41-.59l7.78-7.78 2.81-2.81c.8-.78.8-2.07 0-2.86zM5.41 20L4 18.59l7.72-7.72 1.47 1.35L5.41 20z\"/>\n",
              "  </svg>\n",
              "      </button>\n",
              "\n",
              "\n",
              "\n",
              "    <div id=\"df-5e405919-5334-4568-8ea2-50b8ea7ba38f\">\n",
              "      <button class=\"colab-df-quickchart\" onclick=\"quickchart('df-5e405919-5334-4568-8ea2-50b8ea7ba38f')\"\n",
              "              title=\"Suggest charts.\"\n",
              "              style=\"display:none;\">\n",
              "\n",
              "<svg xmlns=\"http://www.w3.org/2000/svg\" height=\"24px\"viewBox=\"0 0 24 24\"\n",
              "     width=\"24px\">\n",
              "    <g>\n",
              "        <path d=\"M19 3H5c-1.1 0-2 .9-2 2v14c0 1.1.9 2 2 2h14c1.1 0 2-.9 2-2V5c0-1.1-.9-2-2-2zM9 17H7v-7h2v7zm4 0h-2V7h2v10zm4 0h-2v-4h2v4z\"/>\n",
              "    </g>\n",
              "</svg>\n",
              "      </button>\n",
              "    </div>\n",
              "\n",
              "<style>\n",
              "  .colab-df-quickchart {\n",
              "    background-color: #E8F0FE;\n",
              "    border: none;\n",
              "    border-radius: 50%;\n",
              "    cursor: pointer;\n",
              "    display: none;\n",
              "    fill: #1967D2;\n",
              "    height: 32px;\n",
              "    padding: 0 0 0 0;\n",
              "    width: 32px;\n",
              "  }\n",
              "\n",
              "  .colab-df-quickchart:hover {\n",
              "    background-color: #E2EBFA;\n",
              "    box-shadow: 0px 1px 2px rgba(60, 64, 67, 0.3), 0px 1px 3px 1px rgba(60, 64, 67, 0.15);\n",
              "    fill: #174EA6;\n",
              "  }\n",
              "\n",
              "  [theme=dark] .colab-df-quickchart {\n",
              "    background-color: #3B4455;\n",
              "    fill: #D2E3FC;\n",
              "  }\n",
              "\n",
              "  [theme=dark] .colab-df-quickchart:hover {\n",
              "    background-color: #434B5C;\n",
              "    box-shadow: 0px 1px 3px 1px rgba(0, 0, 0, 0.15);\n",
              "    filter: drop-shadow(0px 1px 2px rgba(0, 0, 0, 0.3));\n",
              "    fill: #FFFFFF;\n",
              "  }\n",
              "</style>\n",
              "\n",
              "    <script>\n",
              "      async function quickchart(key) {\n",
              "        const containerElement = document.querySelector('#' + key);\n",
              "        const charts = await google.colab.kernel.invokeFunction(\n",
              "            'suggestCharts', [key], {});\n",
              "      }\n",
              "    </script>\n",
              "\n",
              "      <script>\n",
              "\n",
              "function displayQuickchartButton(domScope) {\n",
              "  let quickchartButtonEl =\n",
              "    domScope.querySelector('#df-5e405919-5334-4568-8ea2-50b8ea7ba38f button.colab-df-quickchart');\n",
              "  quickchartButtonEl.style.display =\n",
              "    google.colab.kernel.accessAllowed ? 'block' : 'none';\n",
              "}\n",
              "\n",
              "        displayQuickchartButton(document);\n",
              "      </script>\n",
              "      <style>\n",
              "    .colab-df-container {\n",
              "      display:flex;\n",
              "      flex-wrap:wrap;\n",
              "      gap: 12px;\n",
              "    }\n",
              "\n",
              "    .colab-df-convert {\n",
              "      background-color: #E8F0FE;\n",
              "      border: none;\n",
              "      border-radius: 50%;\n",
              "      cursor: pointer;\n",
              "      display: none;\n",
              "      fill: #1967D2;\n",
              "      height: 32px;\n",
              "      padding: 0 0 0 0;\n",
              "      width: 32px;\n",
              "    }\n",
              "\n",
              "    .colab-df-convert:hover {\n",
              "      background-color: #E2EBFA;\n",
              "      box-shadow: 0px 1px 2px rgba(60, 64, 67, 0.3), 0px 1px 3px 1px rgba(60, 64, 67, 0.15);\n",
              "      fill: #174EA6;\n",
              "    }\n",
              "\n",
              "    [theme=dark] .colab-df-convert {\n",
              "      background-color: #3B4455;\n",
              "      fill: #D2E3FC;\n",
              "    }\n",
              "\n",
              "    [theme=dark] .colab-df-convert:hover {\n",
              "      background-color: #434B5C;\n",
              "      box-shadow: 0px 1px 3px 1px rgba(0, 0, 0, 0.15);\n",
              "      filter: drop-shadow(0px 1px 2px rgba(0, 0, 0, 0.3));\n",
              "      fill: #FFFFFF;\n",
              "    }\n",
              "  </style>\n",
              "\n",
              "      <script>\n",
              "        const buttonEl =\n",
              "          document.querySelector('#df-a7a97178-5a8c-4d5c-ae21-e61f438b96b3 button.colab-df-convert');\n",
              "        buttonEl.style.display =\n",
              "          google.colab.kernel.accessAllowed ? 'block' : 'none';\n",
              "\n",
              "        async function convertToInteractive(key) {\n",
              "          const element = document.querySelector('#df-a7a97178-5a8c-4d5c-ae21-e61f438b96b3');\n",
              "          const dataTable =\n",
              "            await google.colab.kernel.invokeFunction('convertToInteractive',\n",
              "                                                     [key], {});\n",
              "          if (!dataTable) return;\n",
              "\n",
              "          const docLinkHtml = 'Like what you see? Visit the ' +\n",
              "            '<a target=\"_blank\" href=https://colab.research.google.com/notebooks/data_table.ipynb>data table notebook</a>'\n",
              "            + ' to learn more about interactive tables.';\n",
              "          element.innerHTML = '';\n",
              "          dataTable['output_type'] = 'display_data';\n",
              "          await google.colab.output.renderOutput(dataTable, element);\n",
              "          const docLink = document.createElement('div');\n",
              "          docLink.innerHTML = docLinkHtml;\n",
              "          element.appendChild(docLink);\n",
              "        }\n",
              "      </script>\n",
              "    </div>\n",
              "  </div>\n"
            ]
          },
          "metadata": {},
          "execution_count": 5
        }
      ]
    },
    {
      "cell_type": "markdown",
      "source": [
        "###Heatmap"
      ],
      "metadata": {
        "id": "UtRYcyEBsEA_"
      }
    },
    {
      "cell_type": "code",
      "source": [
        "ty"
      ],
      "metadata": {
        "colab": {
          "base_uri": "https://localhost:8080/",
          "height": 423
        },
        "id": "kRhZ15f9sJIe",
        "outputId": "9d707ddf-66f0-4437-9e16-2f281ff67871"
      },
      "execution_count": 8,
      "outputs": [
        {
          "output_type": "execute_result",
          "data": {
            "text/plain": [
              "         0  1  2\n",
              "0        0  1  0\n",
              "1        0  1  0\n",
              "2        0  1  0\n",
              "3        1  0  0\n",
              "4        1  0  0\n",
              "...     .. .. ..\n",
              "2847245  0  0  1\n",
              "2847246  1  0  0\n",
              "2847247  0  1  0\n",
              "2847248  0  1  0\n",
              "2847249  0  0  1\n",
              "\n",
              "[2847250 rows x 3 columns]"
            ],
            "text/html": [
              "\n",
              "\n",
              "  <div id=\"df-c83ea9ef-d390-4b0f-8f2c-3268e397e0b1\">\n",
              "    <div class=\"colab-df-container\">\n",
              "      <div>\n",
              "<style scoped>\n",
              "    .dataframe tbody tr th:only-of-type {\n",
              "        vertical-align: middle;\n",
              "    }\n",
              "\n",
              "    .dataframe tbody tr th {\n",
              "        vertical-align: top;\n",
              "    }\n",
              "\n",
              "    .dataframe thead th {\n",
              "        text-align: right;\n",
              "    }\n",
              "</style>\n",
              "<table border=\"1\" class=\"dataframe\">\n",
              "  <thead>\n",
              "    <tr style=\"text-align: right;\">\n",
              "      <th></th>\n",
              "      <th>0</th>\n",
              "      <th>1</th>\n",
              "      <th>2</th>\n",
              "    </tr>\n",
              "  </thead>\n",
              "  <tbody>\n",
              "    <tr>\n",
              "      <th>0</th>\n",
              "      <td>0</td>\n",
              "      <td>1</td>\n",
              "      <td>0</td>\n",
              "    </tr>\n",
              "    <tr>\n",
              "      <th>1</th>\n",
              "      <td>0</td>\n",
              "      <td>1</td>\n",
              "      <td>0</td>\n",
              "    </tr>\n",
              "    <tr>\n",
              "      <th>2</th>\n",
              "      <td>0</td>\n",
              "      <td>1</td>\n",
              "      <td>0</td>\n",
              "    </tr>\n",
              "    <tr>\n",
              "      <th>3</th>\n",
              "      <td>1</td>\n",
              "      <td>0</td>\n",
              "      <td>0</td>\n",
              "    </tr>\n",
              "    <tr>\n",
              "      <th>4</th>\n",
              "      <td>1</td>\n",
              "      <td>0</td>\n",
              "      <td>0</td>\n",
              "    </tr>\n",
              "    <tr>\n",
              "      <th>...</th>\n",
              "      <td>...</td>\n",
              "      <td>...</td>\n",
              "      <td>...</td>\n",
              "    </tr>\n",
              "    <tr>\n",
              "      <th>2847245</th>\n",
              "      <td>0</td>\n",
              "      <td>0</td>\n",
              "      <td>1</td>\n",
              "    </tr>\n",
              "    <tr>\n",
              "      <th>2847246</th>\n",
              "      <td>1</td>\n",
              "      <td>0</td>\n",
              "      <td>0</td>\n",
              "    </tr>\n",
              "    <tr>\n",
              "      <th>2847247</th>\n",
              "      <td>0</td>\n",
              "      <td>1</td>\n",
              "      <td>0</td>\n",
              "    </tr>\n",
              "    <tr>\n",
              "      <th>2847248</th>\n",
              "      <td>0</td>\n",
              "      <td>1</td>\n",
              "      <td>0</td>\n",
              "    </tr>\n",
              "    <tr>\n",
              "      <th>2847249</th>\n",
              "      <td>0</td>\n",
              "      <td>0</td>\n",
              "      <td>1</td>\n",
              "    </tr>\n",
              "  </tbody>\n",
              "</table>\n",
              "<p>2847250 rows × 3 columns</p>\n",
              "</div>\n",
              "      <button class=\"colab-df-convert\" onclick=\"convertToInteractive('df-c83ea9ef-d390-4b0f-8f2c-3268e397e0b1')\"\n",
              "              title=\"Convert this dataframe to an interactive table.\"\n",
              "              style=\"display:none;\">\n",
              "\n",
              "  <svg xmlns=\"http://www.w3.org/2000/svg\" height=\"24px\"viewBox=\"0 0 24 24\"\n",
              "       width=\"24px\">\n",
              "    <path d=\"M0 0h24v24H0V0z\" fill=\"none\"/>\n",
              "    <path d=\"M18.56 5.44l.94 2.06.94-2.06 2.06-.94-2.06-.94-.94-2.06-.94 2.06-2.06.94zm-11 1L8.5 8.5l.94-2.06 2.06-.94-2.06-.94L8.5 2.5l-.94 2.06-2.06.94zm10 10l.94 2.06.94-2.06 2.06-.94-2.06-.94-.94-2.06-.94 2.06-2.06.94z\"/><path d=\"M17.41 7.96l-1.37-1.37c-.4-.4-.92-.59-1.43-.59-.52 0-1.04.2-1.43.59L10.3 9.45l-7.72 7.72c-.78.78-.78 2.05 0 2.83L4 21.41c.39.39.9.59 1.41.59.51 0 1.02-.2 1.41-.59l7.78-7.78 2.81-2.81c.8-.78.8-2.07 0-2.86zM5.41 20L4 18.59l7.72-7.72 1.47 1.35L5.41 20z\"/>\n",
              "  </svg>\n",
              "      </button>\n",
              "\n",
              "\n",
              "\n",
              "    <div id=\"df-65a2b8e2-a53a-4c67-8330-73bdf65b8733\">\n",
              "      <button class=\"colab-df-quickchart\" onclick=\"quickchart('df-65a2b8e2-a53a-4c67-8330-73bdf65b8733')\"\n",
              "              title=\"Suggest charts.\"\n",
              "              style=\"display:none;\">\n",
              "\n",
              "<svg xmlns=\"http://www.w3.org/2000/svg\" height=\"24px\"viewBox=\"0 0 24 24\"\n",
              "     width=\"24px\">\n",
              "    <g>\n",
              "        <path d=\"M19 3H5c-1.1 0-2 .9-2 2v14c0 1.1.9 2 2 2h14c1.1 0 2-.9 2-2V5c0-1.1-.9-2-2-2zM9 17H7v-7h2v7zm4 0h-2V7h2v10zm4 0h-2v-4h2v4z\"/>\n",
              "    </g>\n",
              "</svg>\n",
              "      </button>\n",
              "    </div>\n",
              "\n",
              "<style>\n",
              "  .colab-df-quickchart {\n",
              "    background-color: #E8F0FE;\n",
              "    border: none;\n",
              "    border-radius: 50%;\n",
              "    cursor: pointer;\n",
              "    display: none;\n",
              "    fill: #1967D2;\n",
              "    height: 32px;\n",
              "    padding: 0 0 0 0;\n",
              "    width: 32px;\n",
              "  }\n",
              "\n",
              "  .colab-df-quickchart:hover {\n",
              "    background-color: #E2EBFA;\n",
              "    box-shadow: 0px 1px 2px rgba(60, 64, 67, 0.3), 0px 1px 3px 1px rgba(60, 64, 67, 0.15);\n",
              "    fill: #174EA6;\n",
              "  }\n",
              "\n",
              "  [theme=dark] .colab-df-quickchart {\n",
              "    background-color: #3B4455;\n",
              "    fill: #D2E3FC;\n",
              "  }\n",
              "\n",
              "  [theme=dark] .colab-df-quickchart:hover {\n",
              "    background-color: #434B5C;\n",
              "    box-shadow: 0px 1px 3px 1px rgba(0, 0, 0, 0.15);\n",
              "    filter: drop-shadow(0px 1px 2px rgba(0, 0, 0, 0.3));\n",
              "    fill: #FFFFFF;\n",
              "  }\n",
              "</style>\n",
              "\n",
              "    <script>\n",
              "      async function quickchart(key) {\n",
              "        const containerElement = document.querySelector('#' + key);\n",
              "        const charts = await google.colab.kernel.invokeFunction(\n",
              "            'suggestCharts', [key], {});\n",
              "      }\n",
              "    </script>\n",
              "\n",
              "      <script>\n",
              "\n",
              "function displayQuickchartButton(domScope) {\n",
              "  let quickchartButtonEl =\n",
              "    domScope.querySelector('#df-65a2b8e2-a53a-4c67-8330-73bdf65b8733 button.colab-df-quickchart');\n",
              "  quickchartButtonEl.style.display =\n",
              "    google.colab.kernel.accessAllowed ? 'block' : 'none';\n",
              "}\n",
              "\n",
              "        displayQuickchartButton(document);\n",
              "      </script>\n",
              "      <style>\n",
              "    .colab-df-container {\n",
              "      display:flex;\n",
              "      flex-wrap:wrap;\n",
              "      gap: 12px;\n",
              "    }\n",
              "\n",
              "    .colab-df-convert {\n",
              "      background-color: #E8F0FE;\n",
              "      border: none;\n",
              "      border-radius: 50%;\n",
              "      cursor: pointer;\n",
              "      display: none;\n",
              "      fill: #1967D2;\n",
              "      height: 32px;\n",
              "      padding: 0 0 0 0;\n",
              "      width: 32px;\n",
              "    }\n",
              "\n",
              "    .colab-df-convert:hover {\n",
              "      background-color: #E2EBFA;\n",
              "      box-shadow: 0px 1px 2px rgba(60, 64, 67, 0.3), 0px 1px 3px 1px rgba(60, 64, 67, 0.15);\n",
              "      fill: #174EA6;\n",
              "    }\n",
              "\n",
              "    [theme=dark] .colab-df-convert {\n",
              "      background-color: #3B4455;\n",
              "      fill: #D2E3FC;\n",
              "    }\n",
              "\n",
              "    [theme=dark] .colab-df-convert:hover {\n",
              "      background-color: #434B5C;\n",
              "      box-shadow: 0px 1px 3px 1px rgba(0, 0, 0, 0.15);\n",
              "      filter: drop-shadow(0px 1px 2px rgba(0, 0, 0, 0.3));\n",
              "      fill: #FFFFFF;\n",
              "    }\n",
              "  </style>\n",
              "\n",
              "      <script>\n",
              "        const buttonEl =\n",
              "          document.querySelector('#df-c83ea9ef-d390-4b0f-8f2c-3268e397e0b1 button.colab-df-convert');\n",
              "        buttonEl.style.display =\n",
              "          google.colab.kernel.accessAllowed ? 'block' : 'none';\n",
              "\n",
              "        async function convertToInteractive(key) {\n",
              "          const element = document.querySelector('#df-c83ea9ef-d390-4b0f-8f2c-3268e397e0b1');\n",
              "          const dataTable =\n",
              "            await google.colab.kernel.invokeFunction('convertToInteractive',\n",
              "                                                     [key], {});\n",
              "          if (!dataTable) return;\n",
              "\n",
              "          const docLinkHtml = 'Like what you see? Visit the ' +\n",
              "            '<a target=\"_blank\" href=https://colab.research.google.com/notebooks/data_table.ipynb>data table notebook</a>'\n",
              "            + ' to learn more about interactive tables.';\n",
              "          element.innerHTML = '';\n",
              "          dataTable['output_type'] = 'display_data';\n",
              "          await google.colab.output.renderOutput(dataTable, element);\n",
              "          const docLink = document.createElement('div');\n",
              "          docLink.innerHTML = docLinkHtml;\n",
              "          element.appendChild(docLink);\n",
              "        }\n",
              "      </script>\n",
              "    </div>\n",
              "  </div>\n"
            ]
          },
          "metadata": {},
          "execution_count": 8
        }
      ]
    },
    {
      "cell_type": "markdown",
      "source": [
        "###Normalization"
      ],
      "metadata": {
        "id": "QjlZejqSAxns"
      }
    },
    {
      "cell_type": "markdown",
      "source": [],
      "metadata": {
        "id": "NDeD009bsDJe"
      }
    },
    {
      "cell_type": "code",
      "source": [
        "allStats.drop([\"code\", 'type', 'pitch_type'], axis=1, inplace=True)\n",
        "allStats.drop(['event'], axis=1, inplace=True)\n",
        "#allStats.drop(['type'], axis=1, inplace=True)\n",
        "allStats.drop(['codeOut'], axis=1, inplace=True)\n",
        "#allStats.dtypes\n",
        "\n",
        "\n",
        "min_max_scaler = preprocessing.MinMaxScaler()\n",
        "#allStats.dtypes\n",
        "x_scaled = min_max_scaler.fit_transform(allStats)\n",
        "\n",
        "#correlation(pd.DataFrame(x_scaled))\n",
        "#allStats = pd.DataFrame(x_scaled)"
      ],
      "metadata": {
        "id": "93nB2QMMA0Sb"
      },
      "execution_count": 6,
      "outputs": []
    },
    {
      "cell_type": "markdown",
      "source": [],
      "metadata": {
        "id": "GsEUAR16sBUH"
      }
    },
    {
      "cell_type": "code",
      "source": [
        "#correlation(allStats)\n",
        "print(min_max_scaler.get_params(True))\n",
        "min_max_scaler.fit(allStats)\n",
        "print(min_max_scaler.get_params(True))\n",
        "min_max_scaler.get_feature_names_out()"
      ],
      "metadata": {
        "id": "X-yiB4_xLibQ"
      },
      "execution_count": null,
      "outputs": []
    },
    {
      "cell_type": "markdown",
      "source": [
        "###Trying to create testset and data set"
      ],
      "metadata": {
        "id": "sbbwINWt_DSR"
      }
    },
    {
      "cell_type": "code",
      "source": [
        "from sklearn.model_selection import train_test_split\n",
        "\n",
        "msk = np.random.rand(len(x_scaled)) <= 0.7\n",
        "X_train, X_test, y_train, y_test = train_test_split(x_scaled, ty, test_size=0.3)\n",
        "X_test, X_val, y_test, y_val = train_test_split(X_test, y_test, test_size=0.3)\n",
        "\n",
        "\n",
        "def MultiModel(dimsi):\n",
        "  return keras.Sequential([\n",
        "    keras.layers.Dense(60,input_dim=(dimsi), activation = 'relu'),\n",
        "    keras.layers.Dense(50, activation = 'ReLU'),\n",
        "    keras.layers.Dropout(.2, input_shape=(50,)),\n",
        "    keras.layers.BatchNormalization(),\n",
        "    keras.layers.Dense(100, activation = 'tanh'),\n",
        "    keras.layers.Dense(100, activation = 'linear'),\n",
        "    keras.layers.Dense(50, activation = 'ReLU'),\n",
        "    keras.layers.Dropout(.2, input_shape=(50,)),\n",
        "    keras.layers.Dense(12, activation = 'sigmoid'),\n",
        "    keras.layers.Dense(3, activation='softmax')\n",
        "  ])\n",
        "\n",
        "\n",
        "\n",
        "\n"
      ],
      "metadata": {
        "id": "AtoRRS8h_CoZ"
      },
      "execution_count": 12,
      "outputs": []
    },
    {
      "cell_type": "markdown",
      "source": [
        "###Creating Tensors\n"
      ],
      "metadata": {
        "id": "zseBd6J6hkvZ"
      }
    },
    {
      "cell_type": "code",
      "source": [
        "def basicModel(dimsi):\n",
        "  return keras.Sequential([\n",
        "    keras.layers.Dense(60,input_dim=49, activation = 'relu'),\n",
        "    keras.layers.Dropout(.2, input_shape=(50,)),\n",
        "    keras.layers.Dense(50, activation = 'ReLU'),\n",
        "    keras.layers.Dense(50, activation = 'ReLU'),\n",
        "    keras.layers.Dropout(.2, input_shape=(50,)),\n",
        "   keras.layers.Dense(12, activation = 'ReLU'),\n",
        "     keras.layers.Dense(3, activation='softmax')\n",
        "  ])\n",
        "\n",
        "def sigmoidModel(dimsi):\n",
        " return keras.Sequential([\n",
        "   keras.layers.Dense(60,input_dim=49, activation = 'sigmoid'),\n",
        "   keras.layers.Dropout(.2, input_shape=(50,)),\n",
        "   keras.layers.BatchNormalization(),\n",
        "   keras.layers.Dense(50, activation = 'sigmoid'),\n",
        "   keras.layers.Dense(50, activation = 'sigmoid'),\n",
        "   keras.layers.Dropout(.2, input_shape=(50,)),\n",
        "   keras.layers.Dense(12, activation = 'sigmoid'),\n",
        "   keras.layers.Dense(3, activation='softmax')\n",
        "  ])\n",
        "\n",
        "def modelCompileAndRun():\n",
        "  model = MultiModel(49)\n",
        "  model.compile(optimizer=tf.keras.optimizers.Adam(learning_rate =0.002),\n",
        "              loss=tf.keras.losses.CategoricalCrossentropy(),\n",
        "              #loss='sparse_categorical_crossentropy',\n",
        "              metrics=['accuracy'])\n",
        "  history = model.fit(X_train, y_train, epochs=50, batch_size=450, validation_data=(X_test, y_test))\n",
        "  test_loss, test_acc = model.evaluate(X_test, y_test)\n",
        "  createPlot(history)\n",
        "  return model\n",
        "\n",
        "model = modelCompileAndRun()\n",
        "#model.load_weights('/content/drive/MyDrive/MLB Data/Weights')\n",
        "test_loss, test_acc = model.evaluate(X_test, y_test)\n",
        "model.save(\"/content/drive/MyDrive/MLB Data/modelSigmoid.keras\")\n",
        "y_test\n",
        "allStats.shape\n"
      ],
      "metadata": {
        "colab": {
          "base_uri": "https://localhost:8080/",
          "height": 556
        },
        "id": "zZ1g0fUihnmx",
        "outputId": "aa8c044b-2e6b-43df-ca3c-f52cb5e80588"
      },
      "execution_count": 14,
      "outputs": [
        {
          "output_type": "stream",
          "name": "stdout",
          "text": [
            "Epoch 1/50\n",
            "4430/4430 [==============================] - 56s 12ms/step - loss: 0.7186 - accuracy: 0.6717 - val_loss: 0.6967 - val_accuracy: 0.6787\n",
            "Epoch 2/50\n",
            "4430/4430 [==============================] - 48s 11ms/step - loss: 0.6817 - accuracy: 0.6876 - val_loss: 0.6707 - val_accuracy: 0.6885\n",
            "Epoch 3/50\n",
            "4430/4430 [==============================] - 50s 11ms/step - loss: 0.6760 - accuracy: 0.6891 - val_loss: 0.6916 - val_accuracy: 0.6832\n",
            "Epoch 4/50\n",
            " 328/4430 [=>............................] - ETA: 51s - loss: 0.6749 - accuracy: 0.6903"
          ]
        },
        {
          "output_type": "error",
          "ename": "KeyboardInterrupt",
          "evalue": "ignored",
          "traceback": [
            "\u001b[0;31m---------------------------------------------------------------------------\u001b[0m",
            "\u001b[0;31mKeyboardInterrupt\u001b[0m                         Traceback (most recent call last)",
            "\u001b[0;32m<ipython-input-14-9977ee7f1a57>\u001b[0m in \u001b[0;36m<cell line: 36>\u001b[0;34m()\u001b[0m\n\u001b[1;32m     34\u001b[0m   \u001b[0;32mreturn\u001b[0m \u001b[0mmodel\u001b[0m\u001b[0;34m\u001b[0m\u001b[0;34m\u001b[0m\u001b[0m\n\u001b[1;32m     35\u001b[0m \u001b[0;34m\u001b[0m\u001b[0m\n\u001b[0;32m---> 36\u001b[0;31m \u001b[0mmodel\u001b[0m \u001b[0;34m=\u001b[0m \u001b[0mmodelCompileAndRun\u001b[0m\u001b[0;34m(\u001b[0m\u001b[0;34m)\u001b[0m\u001b[0;34m\u001b[0m\u001b[0;34m\u001b[0m\u001b[0m\n\u001b[0m\u001b[1;32m     37\u001b[0m \u001b[0;31m#model.load_weights('/content/drive/MyDrive/MLB Data/Weights')\u001b[0m\u001b[0;34m\u001b[0m\u001b[0;34m\u001b[0m\u001b[0m\n\u001b[1;32m     38\u001b[0m \u001b[0mtest_loss\u001b[0m\u001b[0;34m,\u001b[0m \u001b[0mtest_acc\u001b[0m \u001b[0;34m=\u001b[0m \u001b[0mmodel\u001b[0m\u001b[0;34m.\u001b[0m\u001b[0mevaluate\u001b[0m\u001b[0;34m(\u001b[0m\u001b[0mX_test\u001b[0m\u001b[0;34m,\u001b[0m \u001b[0my_test\u001b[0m\u001b[0;34m)\u001b[0m\u001b[0;34m\u001b[0m\u001b[0;34m\u001b[0m\u001b[0m\n",
            "\u001b[0;32m<ipython-input-14-9977ee7f1a57>\u001b[0m in \u001b[0;36mmodelCompileAndRun\u001b[0;34m()\u001b[0m\n\u001b[1;32m     29\u001b[0m               \u001b[0;31m#loss='sparse_categorical_crossentropy',\u001b[0m\u001b[0;34m\u001b[0m\u001b[0;34m\u001b[0m\u001b[0m\n\u001b[1;32m     30\u001b[0m               metrics=['accuracy'])\n\u001b[0;32m---> 31\u001b[0;31m   \u001b[0mhistory\u001b[0m \u001b[0;34m=\u001b[0m \u001b[0mmodel\u001b[0m\u001b[0;34m.\u001b[0m\u001b[0mfit\u001b[0m\u001b[0;34m(\u001b[0m\u001b[0mX_train\u001b[0m\u001b[0;34m,\u001b[0m \u001b[0my_train\u001b[0m\u001b[0;34m,\u001b[0m \u001b[0mepochs\u001b[0m\u001b[0;34m=\u001b[0m\u001b[0;36m50\u001b[0m\u001b[0;34m,\u001b[0m \u001b[0mbatch_size\u001b[0m\u001b[0;34m=\u001b[0m\u001b[0;36m450\u001b[0m\u001b[0;34m,\u001b[0m \u001b[0mvalidation_data\u001b[0m\u001b[0;34m=\u001b[0m\u001b[0;34m(\u001b[0m\u001b[0mX_test\u001b[0m\u001b[0;34m,\u001b[0m \u001b[0my_test\u001b[0m\u001b[0;34m)\u001b[0m\u001b[0;34m)\u001b[0m\u001b[0;34m\u001b[0m\u001b[0;34m\u001b[0m\u001b[0m\n\u001b[0m\u001b[1;32m     32\u001b[0m   \u001b[0mtest_loss\u001b[0m\u001b[0;34m,\u001b[0m \u001b[0mtest_acc\u001b[0m \u001b[0;34m=\u001b[0m \u001b[0mmodel\u001b[0m\u001b[0;34m.\u001b[0m\u001b[0mevaluate\u001b[0m\u001b[0;34m(\u001b[0m\u001b[0mX_test\u001b[0m\u001b[0;34m,\u001b[0m \u001b[0my_test\u001b[0m\u001b[0;34m)\u001b[0m\u001b[0;34m\u001b[0m\u001b[0;34m\u001b[0m\u001b[0m\n\u001b[1;32m     33\u001b[0m   \u001b[0mcreatePlot\u001b[0m\u001b[0;34m(\u001b[0m\u001b[0mhistory\u001b[0m\u001b[0;34m)\u001b[0m\u001b[0;34m\u001b[0m\u001b[0;34m\u001b[0m\u001b[0m\n",
            "\u001b[0;32m/usr/local/lib/python3.10/dist-packages/keras/utils/traceback_utils.py\u001b[0m in \u001b[0;36merror_handler\u001b[0;34m(*args, **kwargs)\u001b[0m\n\u001b[1;32m     63\u001b[0m         \u001b[0mfiltered_tb\u001b[0m \u001b[0;34m=\u001b[0m \u001b[0;32mNone\u001b[0m\u001b[0;34m\u001b[0m\u001b[0;34m\u001b[0m\u001b[0m\n\u001b[1;32m     64\u001b[0m         \u001b[0;32mtry\u001b[0m\u001b[0;34m:\u001b[0m\u001b[0;34m\u001b[0m\u001b[0;34m\u001b[0m\u001b[0m\n\u001b[0;32m---> 65\u001b[0;31m             \u001b[0;32mreturn\u001b[0m \u001b[0mfn\u001b[0m\u001b[0;34m(\u001b[0m\u001b[0;34m*\u001b[0m\u001b[0margs\u001b[0m\u001b[0;34m,\u001b[0m \u001b[0;34m**\u001b[0m\u001b[0mkwargs\u001b[0m\u001b[0;34m)\u001b[0m\u001b[0;34m\u001b[0m\u001b[0;34m\u001b[0m\u001b[0m\n\u001b[0m\u001b[1;32m     66\u001b[0m         \u001b[0;32mexcept\u001b[0m \u001b[0mException\u001b[0m \u001b[0;32mas\u001b[0m \u001b[0me\u001b[0m\u001b[0;34m:\u001b[0m\u001b[0;34m\u001b[0m\u001b[0;34m\u001b[0m\u001b[0m\n\u001b[1;32m     67\u001b[0m             \u001b[0mfiltered_tb\u001b[0m \u001b[0;34m=\u001b[0m \u001b[0m_process_traceback_frames\u001b[0m\u001b[0;34m(\u001b[0m\u001b[0me\u001b[0m\u001b[0;34m.\u001b[0m\u001b[0m__traceback__\u001b[0m\u001b[0;34m)\u001b[0m\u001b[0;34m\u001b[0m\u001b[0;34m\u001b[0m\u001b[0m\n",
            "\u001b[0;32m/usr/local/lib/python3.10/dist-packages/keras/engine/training.py\u001b[0m in \u001b[0;36mfit\u001b[0;34m(self, x, y, batch_size, epochs, verbose, callbacks, validation_split, validation_data, shuffle, class_weight, sample_weight, initial_epoch, steps_per_epoch, validation_steps, validation_batch_size, validation_freq, max_queue_size, workers, use_multiprocessing)\u001b[0m\n\u001b[1;32m   1683\u001b[0m                         ):\n\u001b[1;32m   1684\u001b[0m                             \u001b[0mcallbacks\u001b[0m\u001b[0;34m.\u001b[0m\u001b[0mon_train_batch_begin\u001b[0m\u001b[0;34m(\u001b[0m\u001b[0mstep\u001b[0m\u001b[0;34m)\u001b[0m\u001b[0;34m\u001b[0m\u001b[0;34m\u001b[0m\u001b[0m\n\u001b[0;32m-> 1685\u001b[0;31m                             \u001b[0mtmp_logs\u001b[0m \u001b[0;34m=\u001b[0m \u001b[0mself\u001b[0m\u001b[0;34m.\u001b[0m\u001b[0mtrain_function\u001b[0m\u001b[0;34m(\u001b[0m\u001b[0miterator\u001b[0m\u001b[0;34m)\u001b[0m\u001b[0;34m\u001b[0m\u001b[0;34m\u001b[0m\u001b[0m\n\u001b[0m\u001b[1;32m   1686\u001b[0m                             \u001b[0;32mif\u001b[0m \u001b[0mdata_handler\u001b[0m\u001b[0;34m.\u001b[0m\u001b[0mshould_sync\u001b[0m\u001b[0;34m:\u001b[0m\u001b[0;34m\u001b[0m\u001b[0;34m\u001b[0m\u001b[0m\n\u001b[1;32m   1687\u001b[0m                                 \u001b[0mcontext\u001b[0m\u001b[0;34m.\u001b[0m\u001b[0masync_wait\u001b[0m\u001b[0;34m(\u001b[0m\u001b[0;34m)\u001b[0m\u001b[0;34m\u001b[0m\u001b[0;34m\u001b[0m\u001b[0m\n",
            "\u001b[0;32m/usr/local/lib/python3.10/dist-packages/tensorflow/python/util/traceback_utils.py\u001b[0m in \u001b[0;36merror_handler\u001b[0;34m(*args, **kwargs)\u001b[0m\n\u001b[1;32m    148\u001b[0m     \u001b[0mfiltered_tb\u001b[0m \u001b[0;34m=\u001b[0m \u001b[0;32mNone\u001b[0m\u001b[0;34m\u001b[0m\u001b[0;34m\u001b[0m\u001b[0m\n\u001b[1;32m    149\u001b[0m     \u001b[0;32mtry\u001b[0m\u001b[0;34m:\u001b[0m\u001b[0;34m\u001b[0m\u001b[0;34m\u001b[0m\u001b[0m\n\u001b[0;32m--> 150\u001b[0;31m       \u001b[0;32mreturn\u001b[0m \u001b[0mfn\u001b[0m\u001b[0;34m(\u001b[0m\u001b[0;34m*\u001b[0m\u001b[0margs\u001b[0m\u001b[0;34m,\u001b[0m \u001b[0;34m**\u001b[0m\u001b[0mkwargs\u001b[0m\u001b[0;34m)\u001b[0m\u001b[0;34m\u001b[0m\u001b[0;34m\u001b[0m\u001b[0m\n\u001b[0m\u001b[1;32m    151\u001b[0m     \u001b[0;32mexcept\u001b[0m \u001b[0mException\u001b[0m \u001b[0;32mas\u001b[0m \u001b[0me\u001b[0m\u001b[0;34m:\u001b[0m\u001b[0;34m\u001b[0m\u001b[0;34m\u001b[0m\u001b[0m\n\u001b[1;32m    152\u001b[0m       \u001b[0mfiltered_tb\u001b[0m \u001b[0;34m=\u001b[0m \u001b[0m_process_traceback_frames\u001b[0m\u001b[0;34m(\u001b[0m\u001b[0me\u001b[0m\u001b[0;34m.\u001b[0m\u001b[0m__traceback__\u001b[0m\u001b[0;34m)\u001b[0m\u001b[0;34m\u001b[0m\u001b[0;34m\u001b[0m\u001b[0m\n",
            "\u001b[0;32m/usr/local/lib/python3.10/dist-packages/tensorflow/python/eager/polymorphic_function/polymorphic_function.py\u001b[0m in \u001b[0;36m__call__\u001b[0;34m(self, *args, **kwds)\u001b[0m\n\u001b[1;32m    892\u001b[0m \u001b[0;34m\u001b[0m\u001b[0m\n\u001b[1;32m    893\u001b[0m       \u001b[0;32mwith\u001b[0m \u001b[0mOptionalXlaContext\u001b[0m\u001b[0;34m(\u001b[0m\u001b[0mself\u001b[0m\u001b[0;34m.\u001b[0m\u001b[0m_jit_compile\u001b[0m\u001b[0;34m)\u001b[0m\u001b[0;34m:\u001b[0m\u001b[0;34m\u001b[0m\u001b[0;34m\u001b[0m\u001b[0m\n\u001b[0;32m--> 894\u001b[0;31m         \u001b[0mresult\u001b[0m \u001b[0;34m=\u001b[0m \u001b[0mself\u001b[0m\u001b[0;34m.\u001b[0m\u001b[0m_call\u001b[0m\u001b[0;34m(\u001b[0m\u001b[0;34m*\u001b[0m\u001b[0margs\u001b[0m\u001b[0;34m,\u001b[0m \u001b[0;34m**\u001b[0m\u001b[0mkwds\u001b[0m\u001b[0;34m)\u001b[0m\u001b[0;34m\u001b[0m\u001b[0;34m\u001b[0m\u001b[0m\n\u001b[0m\u001b[1;32m    895\u001b[0m \u001b[0;34m\u001b[0m\u001b[0m\n\u001b[1;32m    896\u001b[0m       \u001b[0mnew_tracing_count\u001b[0m \u001b[0;34m=\u001b[0m \u001b[0mself\u001b[0m\u001b[0;34m.\u001b[0m\u001b[0mexperimental_get_tracing_count\u001b[0m\u001b[0;34m(\u001b[0m\u001b[0;34m)\u001b[0m\u001b[0;34m\u001b[0m\u001b[0;34m\u001b[0m\u001b[0m\n",
            "\u001b[0;32m/usr/local/lib/python3.10/dist-packages/tensorflow/python/eager/polymorphic_function/polymorphic_function.py\u001b[0m in \u001b[0;36m_call\u001b[0;34m(self, *args, **kwds)\u001b[0m\n\u001b[1;32m    924\u001b[0m       \u001b[0;31m# In this case we have created variables on the first call, so we run the\u001b[0m\u001b[0;34m\u001b[0m\u001b[0;34m\u001b[0m\u001b[0m\n\u001b[1;32m    925\u001b[0m       \u001b[0;31m# defunned version which is guaranteed to never create variables.\u001b[0m\u001b[0;34m\u001b[0m\u001b[0;34m\u001b[0m\u001b[0m\n\u001b[0;32m--> 926\u001b[0;31m       \u001b[0;32mreturn\u001b[0m \u001b[0mself\u001b[0m\u001b[0;34m.\u001b[0m\u001b[0m_no_variable_creation_fn\u001b[0m\u001b[0;34m(\u001b[0m\u001b[0;34m*\u001b[0m\u001b[0margs\u001b[0m\u001b[0;34m,\u001b[0m \u001b[0;34m**\u001b[0m\u001b[0mkwds\u001b[0m\u001b[0;34m)\u001b[0m  \u001b[0;31m# pylint: disable=not-callable\u001b[0m\u001b[0;34m\u001b[0m\u001b[0;34m\u001b[0m\u001b[0m\n\u001b[0m\u001b[1;32m    927\u001b[0m     \u001b[0;32melif\u001b[0m \u001b[0mself\u001b[0m\u001b[0;34m.\u001b[0m\u001b[0m_variable_creation_fn\u001b[0m \u001b[0;32mis\u001b[0m \u001b[0;32mnot\u001b[0m \u001b[0;32mNone\u001b[0m\u001b[0;34m:\u001b[0m\u001b[0;34m\u001b[0m\u001b[0;34m\u001b[0m\u001b[0m\n\u001b[1;32m    928\u001b[0m       \u001b[0;31m# Release the lock early so that multiple threads can perform the call\u001b[0m\u001b[0;34m\u001b[0m\u001b[0;34m\u001b[0m\u001b[0m\n",
            "\u001b[0;32m/usr/local/lib/python3.10/dist-packages/tensorflow/python/eager/polymorphic_function/tracing_compiler.py\u001b[0m in \u001b[0;36m__call__\u001b[0;34m(self, *args, **kwargs)\u001b[0m\n\u001b[1;32m    141\u001b[0m       (concrete_function,\n\u001b[1;32m    142\u001b[0m        filtered_flat_args) = self._maybe_define_function(args, kwargs)\n\u001b[0;32m--> 143\u001b[0;31m     return concrete_function._call_flat(\n\u001b[0m\u001b[1;32m    144\u001b[0m         filtered_flat_args, captured_inputs=concrete_function.captured_inputs)  # pylint: disable=protected-access\n\u001b[1;32m    145\u001b[0m \u001b[0;34m\u001b[0m\u001b[0m\n",
            "\u001b[0;32m/usr/local/lib/python3.10/dist-packages/tensorflow/python/eager/polymorphic_function/monomorphic_function.py\u001b[0m in \u001b[0;36m_call_flat\u001b[0;34m(self, args, captured_inputs, cancellation_manager)\u001b[0m\n\u001b[1;32m   1755\u001b[0m         and executing_eagerly):\n\u001b[1;32m   1756\u001b[0m       \u001b[0;31m# No tape is watching; skip to running the function.\u001b[0m\u001b[0;34m\u001b[0m\u001b[0;34m\u001b[0m\u001b[0m\n\u001b[0;32m-> 1757\u001b[0;31m       return self._build_call_outputs(self._inference_function.call(\n\u001b[0m\u001b[1;32m   1758\u001b[0m           ctx, args, cancellation_manager=cancellation_manager))\n\u001b[1;32m   1759\u001b[0m     forward_backward = self._select_forward_and_backward_functions(\n",
            "\u001b[0;32m/usr/local/lib/python3.10/dist-packages/tensorflow/python/eager/polymorphic_function/monomorphic_function.py\u001b[0m in \u001b[0;36mcall\u001b[0;34m(self, ctx, args, cancellation_manager)\u001b[0m\n\u001b[1;32m    379\u001b[0m       \u001b[0;32mwith\u001b[0m \u001b[0m_InterpolateFunctionError\u001b[0m\u001b[0;34m(\u001b[0m\u001b[0mself\u001b[0m\u001b[0;34m)\u001b[0m\u001b[0;34m:\u001b[0m\u001b[0;34m\u001b[0m\u001b[0;34m\u001b[0m\u001b[0m\n\u001b[1;32m    380\u001b[0m         \u001b[0;32mif\u001b[0m \u001b[0mcancellation_manager\u001b[0m \u001b[0;32mis\u001b[0m \u001b[0;32mNone\u001b[0m\u001b[0;34m:\u001b[0m\u001b[0;34m\u001b[0m\u001b[0;34m\u001b[0m\u001b[0m\n\u001b[0;32m--> 381\u001b[0;31m           outputs = execute.execute(\n\u001b[0m\u001b[1;32m    382\u001b[0m               \u001b[0mstr\u001b[0m\u001b[0;34m(\u001b[0m\u001b[0mself\u001b[0m\u001b[0;34m.\u001b[0m\u001b[0msignature\u001b[0m\u001b[0;34m.\u001b[0m\u001b[0mname\u001b[0m\u001b[0;34m)\u001b[0m\u001b[0;34m,\u001b[0m\u001b[0;34m\u001b[0m\u001b[0;34m\u001b[0m\u001b[0m\n\u001b[1;32m    383\u001b[0m               \u001b[0mnum_outputs\u001b[0m\u001b[0;34m=\u001b[0m\u001b[0mself\u001b[0m\u001b[0;34m.\u001b[0m\u001b[0m_num_outputs\u001b[0m\u001b[0;34m,\u001b[0m\u001b[0;34m\u001b[0m\u001b[0;34m\u001b[0m\u001b[0m\n",
            "\u001b[0;32m/usr/local/lib/python3.10/dist-packages/tensorflow/python/eager/execute.py\u001b[0m in \u001b[0;36mquick_execute\u001b[0;34m(op_name, num_outputs, inputs, attrs, ctx, name)\u001b[0m\n\u001b[1;32m     50\u001b[0m   \u001b[0;32mtry\u001b[0m\u001b[0;34m:\u001b[0m\u001b[0;34m\u001b[0m\u001b[0;34m\u001b[0m\u001b[0m\n\u001b[1;32m     51\u001b[0m     \u001b[0mctx\u001b[0m\u001b[0;34m.\u001b[0m\u001b[0mensure_initialized\u001b[0m\u001b[0;34m(\u001b[0m\u001b[0;34m)\u001b[0m\u001b[0;34m\u001b[0m\u001b[0;34m\u001b[0m\u001b[0m\n\u001b[0;32m---> 52\u001b[0;31m     tensors = pywrap_tfe.TFE_Py_Execute(ctx._handle, device_name, op_name,\n\u001b[0m\u001b[1;32m     53\u001b[0m                                         inputs, attrs, num_outputs)\n\u001b[1;32m     54\u001b[0m   \u001b[0;32mexcept\u001b[0m \u001b[0mcore\u001b[0m\u001b[0;34m.\u001b[0m\u001b[0m_NotOkStatusException\u001b[0m \u001b[0;32mas\u001b[0m \u001b[0me\u001b[0m\u001b[0;34m:\u001b[0m\u001b[0;34m\u001b[0m\u001b[0;34m\u001b[0m\u001b[0m\n",
            "\u001b[0;31mKeyboardInterrupt\u001b[0m: "
          ]
        }
      ]
    },
    {
      "cell_type": "code",
      "source": [],
      "metadata": {
        "id": "Q8E_Xn2yqFZz"
      },
      "execution_count": null,
      "outputs": []
    },
    {
      "cell_type": "code",
      "source": [
        "#history = model.fit(X_train, y_train, epochs=50, batch_size=450,validation_data=(X_test, y_test))\n",
        "#test_loss, test_acc = model.evaluate(X_test, y_test)\n",
        "#test_loss\n",
        "model.save(\"/content/drive/MyDrive/MLB Data/modelSigmoid.keras\")"
      ],
      "metadata": {
        "id": "96TTpwtzhBUr"
      },
      "execution_count": 14,
      "outputs": []
    },
    {
      "cell_type": "code",
      "source": [
        "from sklearn.metrics import classification_report\n",
        "\n",
        "#model = tf.keras.models.load_model('/content/drive/MyDrive/MLB Data/model.keras')\n",
        "predictions = pd.DataFrame(model.predict(X_val))\n",
        "m = np.zeros_like(predictions.values)\n",
        "m[np.arange(len(predictions)), predictions.values.argmax(1)] = 1\n",
        "\n",
        "predictions = pd.DataFrame(m, columns = ('B','S','X')).astype(int)\n",
        "print (predictions)\n",
        "print(y_val)\n",
        "print(classification_report(y_val, predictions))\n"
      ],
      "metadata": {
        "id": "A67LPzEni8CL"
      },
      "execution_count": null,
      "outputs": []
    },
    {
      "cell_type": "code",
      "source": [
        "def createPlot(history):\n",
        "  plt.plot(history.history['accuracy'])\n",
        "  plt.plot(history.history['val_accuracy'])\n",
        "  plt.title('model accuracy')\n",
        "  plt.ylabel('accuracy')\n",
        "  plt.xlabel('epoch')\n",
        "  plt.legend(['train', 'test'], loc='upper left')\n",
        "  plt.show()\n",
        "  # summarize history for loss\n",
        "  plt.plot(history.history['loss'])\n",
        "  plt.plot(history.history['val_loss'])\n",
        "  plt.title('model loss')\n",
        "  plt.ylabel('loss')\n",
        "  plt.xlabel('epoch')\n",
        "  plt.legend(['train', 'test'], loc='upper left')\n",
        "  plt.show()"
      ],
      "metadata": {
        "id": "TD6Sh_1JERHQ"
      },
      "execution_count": 1,
      "outputs": []
    },
    {
      "cell_type": "code",
      "source": [
        "from sklearn.metrics import accuracy_score\n",
        "#result = model.predict(X_test)\n",
        "#result = result.round();\n",
        "#acc = accuracy_score(y_test, result)\n",
        "#acc\n",
        "#result[0]\n",
        "#model.save('/content/drive/MyDrive/models/mod')\n"
      ],
      "metadata": {
        "id": "TrYXLCPtznHo"
      },
      "execution_count": 14,
      "outputs": []
    },
    {
      "cell_type": "markdown",
      "source": [
        "###K-nearest neighbour"
      ],
      "metadata": {
        "id": "cNhPCXHkTN6F"
      }
    },
    {
      "cell_type": "code",
      "source": [
        "from sklearn.neighbors import KNeighborsClassifier\n",
        "from sklearn.metrics import classification_report\n",
        "\n",
        "KNN_model = KNeighborsClassifier(n_neighbors=5)\n",
        "\n",
        "KNN_model.fit(X_train, y_train)\n",
        "KNN_pred = KNN_model.predict(X_val[:500])\n",
        "print(classification_report(KNN_pred, y_val[:500]))"
      ],
      "metadata": {
        "id": "9FgkogcvTRB9",
        "outputId": "2c39be9a-9293-4641-dbd7-2a16b32cc5cc",
        "colab": {
          "base_uri": "https://localhost:8080/"
        }
      },
      "execution_count": 12,
      "outputs": [
        {
          "output_type": "stream",
          "name": "stdout",
          "text": [
            "              precision    recall  f1-score   support\n",
            "\n",
            "           0       0.50      0.78      0.61       116\n",
            "           1       0.70      0.64      0.67       255\n",
            "           2       0.22      0.47      0.30        43\n",
            "\n",
            "   micro avg       0.54      0.66      0.60       414\n",
            "   macro avg       0.48      0.63      0.53       414\n",
            "weighted avg       0.60      0.66      0.61       414\n",
            " samples avg       0.54      0.54      0.54       414\n",
            "\n"
          ]
        },
        {
          "output_type": "stream",
          "name": "stderr",
          "text": [
            "/usr/local/lib/python3.10/dist-packages/sklearn/metrics/_classification.py:1344: UndefinedMetricWarning: Recall and F-score are ill-defined and being set to 0.0 in samples with no true labels. Use `zero_division` parameter to control this behavior.\n",
            "  _warn_prf(average, modifier, msg_start, len(result))\n"
          ]
        }
      ]
    },
    {
      "cell_type": "markdown",
      "source": [
        "###Create svm model"
      ],
      "metadata": {
        "id": "3X7JlklzTWMe"
      }
    },
    {
      "cell_type": "code",
      "source": [
        "\n",
        "from sklearn.metrics import classification_report\n",
        "from sklearn import svm, datasets\n",
        "import sklearn.model_selection as model_selection\n",
        "from sklearn.metrics import accuracy_score\n",
        "\n",
        "y_val_flat = y_train.values.ravel()\n",
        "svcModel = svm.SVC(kernel='rbf', degree=3, max_iter=30, C=1).fit(X_train, y_val_flat)\n",
        "pred= svcModel.predict(X_test)\n",
        "print(classification_report(pred, y_test.values.ravel()))\n",
        "y_test_flat = y_test.values.ravel()\n"
      ],
      "metadata": {
        "colab": {
          "base_uri": "https://localhost:8080/"
        },
        "id": "T-zUcKiHTaIN",
        "outputId": "e32e484b-bf66-4b32-fce2-d80124a7d3c9"
      },
      "execution_count": 15,
      "outputs": [
        {
          "output_type": "stream",
          "name": "stderr",
          "text": [
            "/usr/local/lib/python3.10/dist-packages/sklearn/svm/_base.py:299: ConvergenceWarning: Solver terminated early (max_iter=30).  Consider pre-processing your data with StandardScaler or MinMaxScaler.\n",
            "  warnings.warn(\n"
          ]
        },
        {
          "output_type": "stream",
          "name": "stdout",
          "text": [
            "              precision    recall  f1-score   support\n",
            "\n",
            "           0       0.88      0.36      0.51    528852\n",
            "           1       0.09      0.48      0.15     52030\n",
            "           2       0.02      0.14      0.04     17040\n",
            "\n",
            "    accuracy                           0.37    597922\n",
            "   macro avg       0.33      0.33      0.24    597922\n",
            "weighted avg       0.79      0.37      0.47    597922\n",
            "\n"
          ]
        }
      ]
    },
    {
      "cell_type": "code",
      "source": [
        "accuracy = accuracy_score(y_test_flat, pred)\n",
        "f1 = f1_score(y_test_flat, pred, average='weighted')\n",
        "\n",
        "print('Accuracy SVC poly: ', \"%.2f\" % (accuracy*100))\n",
        "print('Accuracy f1 poly: ', f1)\n"
      ],
      "metadata": {
        "colab": {
          "base_uri": "https://localhost:8080/"
        },
        "id": "eSLFMZDUqdHI",
        "outputId": "40a184e9-d296-4037-ae98-c7571778c005"
      },
      "execution_count": 18,
      "outputs": [
        {
          "output_type": "stream",
          "name": "stdout",
          "text": [
            "Accuracy SVC poly:  44.94\n",
            "Accuracy f1 poly:  0.3172487960223621\n"
          ]
        }
      ]
    },
    {
      "cell_type": "code",
      "source": [
        "createSVM()"
      ],
      "metadata": {
        "id": "Gi_CAKJZam9P"
      },
      "execution_count": null,
      "outputs": []
    },
    {
      "cell_type": "markdown",
      "source": [
        "###Create basic model\n"
      ],
      "metadata": {
        "id": "9sdo_8_vZ64H"
      }
    },
    {
      "cell_type": "code",
      "source": [
        "for layer in model.layers: print(layer.get_config(), layer.get_weights())"
      ],
      "metadata": {
        "id": "3E619BkOZ9XW"
      },
      "execution_count": null,
      "outputs": []
    },
    {
      "cell_type": "markdown",
      "source": [
        "###First test predictions\n"
      ],
      "metadata": {
        "id": "bShvHselbCF_"
      }
    },
    {
      "cell_type": "code",
      "source": [
        "untrained_preds = model_0(pitch_tensor)\n",
        "print(f\"Length of predictions: {len(untrained_preds)}, Shape: {untrained_preds.shape}\")\n",
        "print(f\"Length of test samples: {len(outcome_tensor)}, Shape: {outcome_tensor.shape}\")\n",
        "print(f\"\\nFirst 10 predictions:\\n{untrained_preds[:10]}\")\n",
        "print(f\"\\nFirst 10 results:\\n{outcome_tensor[:10]}\")"
      ],
      "metadata": {
        "id": "4NwL7CdGbF3F"
      },
      "execution_count": null,
      "outputs": []
    },
    {
      "cell_type": "markdown",
      "source": [
        "##Setting loss function and optimizer\n"
      ],
      "metadata": {
        "id": "76plFJf1jDjs"
      }
    },
    {
      "cell_type": "code",
      "source": [
        "loss_fn = nn.BCEWithLogitsLoss()\n",
        "optimizer = torch.optim.SGD(params=model_0.parameters(),\n",
        "                            lr=0.1)\n",
        "\n",
        "def accuracy_fn(y_true, y_pred):\n",
        "    correct = torch.eq(y_true, y_pred).sum().item() # torch.eq() calculates where two tensors are equal\n",
        "    acc = (correct / len(y_pred)) * 100\n",
        "    return acc"
      ],
      "metadata": {
        "id": "2NktdRKUklb1"
      },
      "execution_count": null,
      "outputs": []
    },
    {
      "cell_type": "code",
      "source": [
        "def correlation(df):\n",
        "  pear_corr=df.corr(method='pearson')\n",
        "  fig, ax = plt.subplots(figsize=(df.shape[1],df.shape[1]))\n",
        "  im = ax.imshow(pear_corr, interpolation='nearest')\n",
        "  fig.colorbar(im, orientation='vertical', fraction = 0.05)\n",
        "\n",
        "# Show all ticks and label them with the dataframe column name\n",
        "  ax.set_xticklabels(df.columns, rotation=65, fontsize=15)\n",
        "  ax.set_yticklabels(df.columns, rotation=0, fontsize=15)\n",
        "\n",
        "# Loop over data dimensions and create text annotations\n",
        "  for i in range(len(df.columns)-1):\n",
        "    for j in range(len(df.columns)-1):\n",
        "      text = ax.text(j, i, round(pear_corr.to_numpy()[i, j], 2),\n",
        "                   ha=\"center\", va=\"center\", color=\"black\")\n",
        "\n",
        "  plt.show()\n"
      ],
      "metadata": {
        "id": "gM92309VufA2"
      },
      "execution_count": null,
      "outputs": []
    },
    {
      "cell_type": "markdown",
      "source": [
        "https://scikit-learn.org/stable/modules/generated/sklearn.preprocessing.OneHotEncoder.html"
      ],
      "metadata": {
        "id": "fMiTLeMRg-RE"
      }
    }
  ]
}